{
 "cells": [
  {
   "cell_type": "markdown",
   "id": "4024dc27",
   "metadata": {},
   "source": [
    "# Wod2Vec Model Generator\n",
    "\n",
    "This script uses the Brown corpus (see: https://en.wikipedia.org/wiki/Brown_Corpus) to train a Word2Vec model which will be saved as a .model file"
   ]
  },
  {
   "cell_type": "code",
   "execution_count": 1,
   "id": "e632f6fd",
   "metadata": {},
   "outputs": [],
   "source": [
    "from gensim.models import Word2Vec\n",
    "from nltk.corpus import brown"
   ]
  },
  {
   "cell_type": "code",
   "execution_count": 13,
   "id": "c46ce141",
   "metadata": {},
   "outputs": [],
   "source": [
    "w2v = Word2Vec(brown.sents(), vector_size=64, min_count=1)\n",
    "w2v.save('word2vec.model')"
   ]
  },
  {
   "cell_type": "code",
   "execution_count": 2,
   "id": "8869703d",
   "metadata": {},
   "outputs": [],
   "source": [
    "w2v_load = Word2Vec.load(\"word2vec.model\")\n",
    "wv = w2v_load.wv"
   ]
  },
  {
   "cell_type": "code",
   "execution_count": 7,
   "id": "5843d1d8",
   "metadata": {
    "scrolled": true
   },
   "outputs": [
    {
     "data": {
      "text/plain": [
       "[('while', 0.8938035368919373),\n",
       " ('when', 0.8729793429374695),\n",
       " ('until', 0.8705779314041138),\n",
       " ('When', 0.819814920425415),\n",
       " ('before', 0.7865046262741089),\n",
       " ('whatever', 0.7799607515335083),\n",
       " ('If', 0.7772839069366455),\n",
       " ('if', 0.7738779783248901),\n",
       " ('around', 0.7635396718978882),\n",
       " ('because', 0.7621657252311707)]"
      ]
     },
     "execution_count": 7,
     "metadata": {},
     "output_type": "execute_result"
    }
   ],
   "source": [
    "wv.most_similar(\"where\")"
   ]
  },
  {
   "cell_type": "code",
   "execution_count": 48,
   "id": "e70a4bb7",
   "metadata": {},
   "outputs": [],
   "source": [
    "sent = 'Sarah and Steve went to the store'\n",
    "sent_spl = sent.split()\n",
    "vecs = []\n",
    "for word in sent_spl:\n",
    "    try:\n",
    "        vecs.append(wv[word])\n",
    "    except:\n",
    "        pass"
   ]
  },
  {
   "cell_type": "code",
   "execution_count": 49,
   "id": "70acdae1",
   "metadata": {},
   "outputs": [
    {
     "data": {
      "text/plain": [
       "7"
      ]
     },
     "execution_count": 49,
     "metadata": {},
     "output_type": "execute_result"
    }
   ],
   "source": [
    "len(vecs)"
   ]
  },
  {
   "cell_type": "code",
   "execution_count": null,
   "id": "b8e4e1b7",
   "metadata": {},
   "outputs": [],
   "source": []
  }
 ],
 "metadata": {
  "kernelspec": {
   "display_name": "Python 3 (ipykernel)",
   "language": "python",
   "name": "python3"
  },
  "language_info": {
   "codemirror_mode": {
    "name": "ipython",
    "version": 3
   },
   "file_extension": ".py",
   "mimetype": "text/x-python",
   "name": "python",
   "nbconvert_exporter": "python",
   "pygments_lexer": "ipython3",
   "version": "3.11.4"
  }
 },
 "nbformat": 4,
 "nbformat_minor": 5
}
